{
 "cells": [
  {
   "cell_type": "code",
   "execution_count": 1,
   "metadata": {},
   "outputs": [],
   "source": [
    "import pandas as pd\n",
    "from argparse import Namespace\n",
    "from sklearn.metrics import classification_report\n",
    "from transformers import pipeline"
   ]
  },
  {
   "cell_type": "code",
   "execution_count": 3,
   "metadata": {},
   "outputs": [],
   "source": [
    "from transformers import AutoTokenizer, AutoModelForSequenceClassification\n",
    "from transformers import pipeline\n",
    "\n",
    "tokenizer = AutoTokenizer.from_pretrained(\"snunlp/KR-FinBert-SC\")\n",
    "model = AutoModelForSequenceClassification.from_pretrained(\"snunlp/KR-FinBert-SC\")\n",
    "classifier = pipeline(\"sentiment-analysis\", model=model, tokenizer=tokenizer)"
   ]
  },
  {
   "cell_type": "code",
   "execution_count": 7,
   "metadata": {},
   "outputs": [
    {
     "data": {
      "text/html": [
       "<div>\n",
       "<style scoped>\n",
       "    .dataframe tbody tr th:only-of-type {\n",
       "        vertical-align: middle;\n",
       "    }\n",
       "\n",
       "    .dataframe tbody tr th {\n",
       "        vertical-align: top;\n",
       "    }\n",
       "\n",
       "    .dataframe thead th {\n",
       "        text-align: right;\n",
       "    }\n",
       "</style>\n",
       "<table border=\"1\" class=\"dataframe\">\n",
       "  <thead>\n",
       "    <tr style=\"text-align: right;\">\n",
       "      <th></th>\n",
       "      <th>date</th>\n",
       "      <th>title</th>\n",
       "      <th>content</th>\n",
       "      <th>sent_score</th>\n",
       "    </tr>\n",
       "  </thead>\n",
       "  <tbody>\n",
       "    <tr>\n",
       "      <th>0</th>\n",
       "      <td>2024-05-20</td>\n",
       "      <td>코스피 상장사 현금배당 10년 만에 15조→41조 | 한국경제</td>\n",
       "      <td>유가증권시장 상장사의 현금배당 규모가 최근 10년간 세 배 가까이 늘어난 것으로 나...</td>\n",
       "      <td>27</td>\n",
       "    </tr>\n",
       "    <tr>\n",
       "      <th>1</th>\n",
       "      <td>2024-05-20</td>\n",
       "      <td>코스피 편입 종목, 1분기 연결 영업이익 84%↑…코스닥은 4% 줄어 | 한국경제</td>\n",
       "      <td>사진=한경DB 사진=한경DB  유가증권시장 상장사들은 지난 1분기 실적이 1년 전보...</td>\n",
       "      <td>-7</td>\n",
       "    </tr>\n",
       "    <tr>\n",
       "      <th>2</th>\n",
       "      <td>2024-05-21</td>\n",
       "      <td>코스피, 기관·외국인 매도세에 2720선 후퇴…대형주 약세 | 한국경제</td>\n",
       "      <td>17일 서울 중구 하나은행 본점 딜링룸./사진=뉴스1 17일 서울 중구 하나은행 본...</td>\n",
       "      <td>6</td>\n",
       "    </tr>\n",
       "    <tr>\n",
       "      <th>3</th>\n",
       "      <td>2024-05-20</td>\n",
       "      <td>생큐 반도체…코스피 상장사 영업이익, 1년 만에 84％ 점프 | 한국경제</td>\n",
       "      <td>사진=게티이미지뱅크 사진=게티이미지뱅크  유가증권시장 상장사 영업이익이 전년 대비 ...</td>\n",
       "      <td>6</td>\n",
       "    </tr>\n",
       "    <tr>\n",
       "      <th>4</th>\n",
       "      <td>2024-05-21</td>\n",
       "      <td>코스피, 소폭 하락하며 2730선 횡보…화장품株 들썩 | 한국경제</td>\n",
       "      <td>21일 오전 서울 중구 하나은행 딜링룸./사진=연합뉴스 21일 오전 서울 중구 하나...</td>\n",
       "      <td>-4</td>\n",
       "    </tr>\n",
       "    <tr>\n",
       "      <th>...</th>\n",
       "      <td>...</td>\n",
       "      <td>...</td>\n",
       "      <td>...</td>\n",
       "      <td>...</td>\n",
       "    </tr>\n",
       "    <tr>\n",
       "      <th>7579</th>\n",
       "      <td>2024-05-29</td>\n",
       "      <td>요즘 짜장면도 8000원인데…2만원 돼도 사 먹을래요 | 한국경제</td>\n",
       "      <td>서울 중구에 위치한 평양냉면 전문점 우래옥에 길게 늘어선 줄 / 사진=성진우 기자 ...</td>\n",
       "      <td>4</td>\n",
       "    </tr>\n",
       "    <tr>\n",
       "      <th>7580</th>\n",
       "      <td>2016-07-08</td>\n",
       "      <td>코스피, 오후에도 1960선 약세 지속…삼성전자 1%대↑ | 한국경제</td>\n",
       "      <td>코스피지수가 오후 들어서도 1960선에서 약세를 지속하고 있다. 코스닥지수도 하락세...</td>\n",
       "      <td>-6</td>\n",
       "    </tr>\n",
       "    <tr>\n",
       "      <th>7581</th>\n",
       "      <td>2024-05-30</td>\n",
       "      <td>기사님들이 엄지척 입소문 탔다…인기 폭발 전기차 택시 | 한국경제</td>\n",
       "      <td>더 뉴 아이오닉5 더 뉴 아이오닉5  현대차그룹의 전기차 전용 플랫폼인 E-GMP를...</td>\n",
       "      <td>10</td>\n",
       "    </tr>\n",
       "    <tr>\n",
       "      <th>7582</th>\n",
       "      <td>2016-07-08</td>\n",
       "      <td>코스피, 기관·외인 팔자에 1950선 낙폭 확대…코스닥 690선 내줘 | 한국경제</td>\n",
       "      <td>코스피지수가 1950선에서 약세를 나타내고 있다. 코스닥지수도 장중 하락세로 돌아섰...</td>\n",
       "      <td>-3</td>\n",
       "    </tr>\n",
       "    <tr>\n",
       "      <th>7583</th>\n",
       "      <td>2016-07-08</td>\n",
       "      <td>코스피, 1970선 보합권 등락…코스닥 700선 진입 코앞 | 한국경제</td>\n",
       "      <td>코스피지수가 1970선 보합권에서 등락을 반복하고 있다. 코스닥지수는 700선 진입...</td>\n",
       "      <td>3</td>\n",
       "    </tr>\n",
       "  </tbody>\n",
       "</table>\n",
       "<p>7584 rows × 4 columns</p>\n",
       "</div>"
      ],
      "text/plain": [
       "            date                                          title  \\\n",
       "0     2024-05-20             코스피 상장사 현금배당 10년 만에 15조→41조 | 한국경제   \n",
       "1     2024-05-20  코스피 편입 종목, 1분기 연결 영업이익 84%↑…코스닥은 4% 줄어 | 한국경제   \n",
       "2     2024-05-21        코스피, 기관·외국인 매도세에 2720선 후퇴…대형주 약세 | 한국경제   \n",
       "3     2024-05-20       생큐 반도체…코스피 상장사 영업이익, 1년 만에 84％ 점프 | 한국경제   \n",
       "4     2024-05-21           코스피, 소폭 하락하며 2730선 횡보…화장품株 들썩 | 한국경제   \n",
       "...          ...                                            ...   \n",
       "7579  2024-05-29           요즘 짜장면도 8000원인데…2만원 돼도 사 먹을래요 | 한국경제   \n",
       "7580  2016-07-08         코스피, 오후에도 1960선 약세 지속…삼성전자 1%대↑ | 한국경제   \n",
       "7581  2024-05-30           기사님들이 엄지척 입소문 탔다…인기 폭발 전기차 택시 | 한국경제   \n",
       "7582  2016-07-08  코스피, 기관·외인 팔자에 1950선 낙폭 확대…코스닥 690선 내줘 | 한국경제   \n",
       "7583  2016-07-08        코스피, 1970선 보합권 등락…코스닥 700선 진입 코앞 | 한국경제   \n",
       "\n",
       "                                                content  sent_score  \n",
       "0     유가증권시장 상장사의 현금배당 규모가 최근 10년간 세 배 가까이 늘어난 것으로 나...          27  \n",
       "1     사진=한경DB 사진=한경DB  유가증권시장 상장사들은 지난 1분기 실적이 1년 전보...          -7  \n",
       "2     17일 서울 중구 하나은행 본점 딜링룸./사진=뉴스1 17일 서울 중구 하나은행 본...           6  \n",
       "3     사진=게티이미지뱅크 사진=게티이미지뱅크  유가증권시장 상장사 영업이익이 전년 대비 ...           6  \n",
       "4     21일 오전 서울 중구 하나은행 딜링룸./사진=연합뉴스 21일 오전 서울 중구 하나...          -4  \n",
       "...                                                 ...         ...  \n",
       "7579  서울 중구에 위치한 평양냉면 전문점 우래옥에 길게 늘어선 줄 / 사진=성진우 기자 ...           4  \n",
       "7580  코스피지수가 오후 들어서도 1960선에서 약세를 지속하고 있다. 코스닥지수도 하락세...          -6  \n",
       "7581  더 뉴 아이오닉5 더 뉴 아이오닉5  현대차그룹의 전기차 전용 플랫폼인 E-GMP를...          10  \n",
       "7582  코스피지수가 1950선에서 약세를 나타내고 있다. 코스닥지수도 장중 하락세로 돌아섰...          -3  \n",
       "7583  코스피지수가 1970선 보합권에서 등락을 반복하고 있다. 코스닥지수는 700선 진입...           3  \n",
       "\n",
       "[7584 rows x 4 columns]"
      ]
     },
     "execution_count": 7,
     "metadata": {},
     "output_type": "execute_result"
    }
   ],
   "source": [
    "df = pd.read_csv('final_sent_score.csv',encoding='cp949')\n",
    "df.dropna(inplace=True)\n",
    "df"
   ]
  },
  {
   "cell_type": "code",
   "execution_count": 8,
   "metadata": {},
   "outputs": [
    {
     "name": "stderr",
     "output_type": "stream",
     "text": [
      "Processing articles:   0%|          | 0/3 [00:00<?, ?it/s]"
     ]
    },
    {
     "name": "stderr",
     "output_type": "stream",
     "text": [
      "Processing articles: 100%|██████████| 3/3 [00:09<00:00,  3.19s/it]\n"
     ]
    },
    {
     "data": {
      "text/plain": [
       "[30, 9, 13]"
      ]
     },
     "execution_count": 8,
     "metadata": {},
     "output_type": "execute_result"
    }
   ],
   "source": [
    "from tqdm import tqdm\n",
    "\n",
    "sent_score_ls = []\n",
    "pst_ls = []\n",
    "neg_ls = []\n",
    "# tqdm을 사용하여 진행 상황 표시\n",
    "for i in tqdm(len(df), desc=\"Processing articles\"):\n",
    "    try:\n",
    "        content = df['content'][i].split('. ')\n",
    "        content = [e for e in content if len(e) <= 512]\n",
    "        sent_ls = []\n",
    "        sentiment = classifier(content)\n",
    "        \n",
    "        for j in range(len(sentiment)):\n",
    "            sent_ls.append(sentiment[j]['label'])\n",
    "        \n",
    "        title_sentiment = classifier(df['title'][i])\n",
    "        sent_ls.append(title_sentiment[0]['label'])\n",
    "        \n",
    "        positive = sent_ls.count('positive')\n",
    "        negative = sent_ls.count('negative')\n",
    "        pst_ls.append(positive)\n",
    "        neg_ls.append(negative)\n",
    "        sent_score = positive - negative\n",
    "        sent_score_ls.append(sent_score)\n",
    "    except KeyError:\n",
    "        pass"
   ]
  },
  {
   "cell_type": "code",
   "execution_count": null,
   "metadata": {},
   "outputs": [],
   "source": [
    "df['positive'] = pst_ls\n",
    "df['negative'] = neg_ls\n",
    "df"
   ]
  }
 ],
 "metadata": {
  "kernelspec": {
   "display_name": "Python 3",
   "language": "python",
   "name": "python3"
  },
  "language_info": {
   "codemirror_mode": {
    "name": "ipython",
    "version": 3
   },
   "file_extension": ".py",
   "mimetype": "text/x-python",
   "name": "python",
   "nbconvert_exporter": "python",
   "pygments_lexer": "ipython3",
   "version": "3.11.5"
  }
 },
 "nbformat": 4,
 "nbformat_minor": 2
}
