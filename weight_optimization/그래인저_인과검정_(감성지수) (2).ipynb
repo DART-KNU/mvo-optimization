{
  "cells": [
    {
      "cell_type": "code",
      "execution_count": 1,
      "metadata": {
        "id": "xEn8EwU_Cbyg"
      },
      "outputs": [],
      "source": [
        "import pandas as pd\n",
        "import numpy as np\n",
        "import statsmodels.api as sm\n",
        "from statsmodels.tsa.stattools import grangercausalitytests\n",
        "import matplotlib.pyplot as plt\n",
        "import warnings\n",
        "warnings.filterwarnings(\"ignore\")"
      ]
    },
    {
      "cell_type": "code",
      "execution_count": 2,
      "metadata": {
        "id": "mYEBWFBUCdZz"
      },
      "outputs": [],
      "source": [
        "kospi = pd.read_csv('kospi (1).csv', index_col = 0, encoding='cp949')\n",
        "BTC = pd.read_excel('비트가격.xlsx',index_col = 0)\n",
        "M2 =  pd.read_excel('M2.xlsx',index_col = 0)\n",
        "indi =  pd.read_excel('경기종합지수.xlsx',index_col = 0)"
      ]
    },
    {
      "cell_type": "markdown",
      "metadata": {
        "id": "pbB6jqgdDXqk"
      },
      "source": [
        "# 1. KOSPI"
      ]
    },
    {
      "cell_type": "code",
      "execution_count": 3,
      "metadata": {
        "colab": {
          "base_uri": "https://localhost:8080/",
          "height": 455
        },
        "id": "oLbsIPIGCeVD",
        "outputId": "d4860945-6286-40aa-8099-d4d850e5f341"
      },
      "outputs": [
        {
          "data": {
            "text/html": [
              "<div>\n",
              "<style scoped>\n",
              "    .dataframe tbody tr th:only-of-type {\n",
              "        vertical-align: middle;\n",
              "    }\n",
              "\n",
              "    .dataframe tbody tr th {\n",
              "        vertical-align: top;\n",
              "    }\n",
              "\n",
              "    .dataframe thead th {\n",
              "        text-align: right;\n",
              "    }\n",
              "</style>\n",
              "<table border=\"1\" class=\"dataframe\">\n",
              "  <thead>\n",
              "    <tr style=\"text-align: right;\">\n",
              "      <th></th>\n",
              "      <th>Close</th>\n",
              "    </tr>\n",
              "    <tr>\n",
              "      <th>Date</th>\n",
              "      <th></th>\n",
              "    </tr>\n",
              "  </thead>\n",
              "  <tbody>\n",
              "    <tr>\n",
              "      <th>2016-01</th>\n",
              "      <td>1894.651001</td>\n",
              "    </tr>\n",
              "    <tr>\n",
              "      <th>2016-02</th>\n",
              "      <td>1900.609999</td>\n",
              "    </tr>\n",
              "    <tr>\n",
              "      <th>2016-03</th>\n",
              "      <td>1976.502736</td>\n",
              "    </tr>\n",
              "    <tr>\n",
              "      <th>2016-04</th>\n",
              "      <td>1996.170496</td>\n",
              "    </tr>\n",
              "    <tr>\n",
              "      <th>2016-05</th>\n",
              "      <td>1966.675519</td>\n",
              "    </tr>\n",
              "    <tr>\n",
              "      <th>...</th>\n",
              "      <td>...</td>\n",
              "    </tr>\n",
              "    <tr>\n",
              "      <th>2023-12</th>\n",
              "      <td>2553.641075</td>\n",
              "    </tr>\n",
              "    <tr>\n",
              "      <th>2024-01</th>\n",
              "      <td>2518.588212</td>\n",
              "    </tr>\n",
              "    <tr>\n",
              "      <th>2024-02</th>\n",
              "      <td>2630.416337</td>\n",
              "    </tr>\n",
              "    <tr>\n",
              "      <th>2024-03</th>\n",
              "      <td>2699.587036</td>\n",
              "    </tr>\n",
              "    <tr>\n",
              "      <th>2024-04</th>\n",
              "      <td>2674.249988</td>\n",
              "    </tr>\n",
              "  </tbody>\n",
              "</table>\n",
              "<p>100 rows × 1 columns</p>\n",
              "</div>"
            ],
            "text/plain": [
              "               Close\n",
              "Date                \n",
              "2016-01  1894.651001\n",
              "2016-02  1900.609999\n",
              "2016-03  1976.502736\n",
              "2016-04  1996.170496\n",
              "2016-05  1966.675519\n",
              "...              ...\n",
              "2023-12  2553.641075\n",
              "2024-01  2518.588212\n",
              "2024-02  2630.416337\n",
              "2024-03  2699.587036\n",
              "2024-04  2674.249988\n",
              "\n",
              "[100 rows x 1 columns]"
            ]
          },
          "execution_count": 3,
          "metadata": {},
          "output_type": "execute_result"
        }
      ],
      "source": [
        "import pandas as pd\n",
        "\n",
        "# CSV 파일 경로\n",
        "file_path = 'kospi (1).csv'\n",
        "\n",
        "# CSV 파일 읽기\n",
        "df = pd.read_csv(file_path)\n",
        "\n",
        "# 'Date' 열을 datetime 형식으로 변환\n",
        "df['Date'] = pd.to_datetime(df['Date'], errors='coerce')\n",
        "\n",
        "# 변환되지 않은 값들 (NaT) 확인 및 제거\n",
        "df.dropna(subset=['Date'], inplace=True)\n",
        "\n",
        "# 'Date' 열을 인덱스로 설정\n",
        "df.set_index('Date', inplace=True)\n",
        "\n",
        "# 월별 데이터 생성\n",
        "monthly_data_k = df.groupby(df.index.to_period('M')).mean()\n",
        "\n",
        "# 데이터 프레임 만들기\n",
        "df_k = monthly_data_k\n",
        "df_k"
      ]
    },
    {
      "cell_type": "markdown",
      "metadata": {
        "id": "_1dRSQE1DapG"
      },
      "source": [
        "# 2. BTC"
      ]
    },
    {
      "cell_type": "code",
      "execution_count": 4,
      "metadata": {
        "colab": {
          "base_uri": "https://localhost:8080/",
          "height": 455
        },
        "id": "SbgAk1SPChT8",
        "outputId": "bb01afa1-937a-4ad6-b918-35510356f2cf"
      },
      "outputs": [
        {
          "data": {
            "text/html": [
              "<div>\n",
              "<style scoped>\n",
              "    .dataframe tbody tr th:only-of-type {\n",
              "        vertical-align: middle;\n",
              "    }\n",
              "\n",
              "    .dataframe tbody tr th {\n",
              "        vertical-align: top;\n",
              "    }\n",
              "\n",
              "    .dataframe thead th {\n",
              "        text-align: right;\n",
              "    }\n",
              "</style>\n",
              "<table border=\"1\" class=\"dataframe\">\n",
              "  <thead>\n",
              "    <tr style=\"text-align: right;\">\n",
              "      <th></th>\n",
              "      <th>BTC</th>\n",
              "    </tr>\n",
              "    <tr>\n",
              "      <th>Date</th>\n",
              "      <th></th>\n",
              "    </tr>\n",
              "  </thead>\n",
              "  <tbody>\n",
              "    <tr>\n",
              "      <th>2016-01</th>\n",
              "      <td>4.991935e+05</td>\n",
              "    </tr>\n",
              "    <tr>\n",
              "      <th>2016-02</th>\n",
              "      <td>4.987069e+05</td>\n",
              "    </tr>\n",
              "    <tr>\n",
              "      <th>2016-03</th>\n",
              "      <td>4.974839e+05</td>\n",
              "    </tr>\n",
              "    <tr>\n",
              "      <th>2016-04</th>\n",
              "      <td>5.019000e+05</td>\n",
              "    </tr>\n",
              "    <tr>\n",
              "      <th>2016-05</th>\n",
              "      <td>5.457742e+05</td>\n",
              "    </tr>\n",
              "    <tr>\n",
              "      <th>...</th>\n",
              "      <td>...</td>\n",
              "    </tr>\n",
              "    <tr>\n",
              "      <th>2023-12</th>\n",
              "      <td>5.756526e+07</td>\n",
              "    </tr>\n",
              "    <tr>\n",
              "      <th>2024-01</th>\n",
              "      <td>5.853168e+07</td>\n",
              "    </tr>\n",
              "    <tr>\n",
              "      <th>2024-02</th>\n",
              "      <td>6.814628e+07</td>\n",
              "    </tr>\n",
              "    <tr>\n",
              "      <th>2024-03</th>\n",
              "      <td>9.642045e+07</td>\n",
              "    </tr>\n",
              "    <tr>\n",
              "      <th>2024-04</th>\n",
              "      <td>9.564367e+07</td>\n",
              "    </tr>\n",
              "  </tbody>\n",
              "</table>\n",
              "<p>100 rows × 1 columns</p>\n",
              "</div>"
            ],
            "text/plain": [
              "                  BTC\n",
              "Date                 \n",
              "2016-01  4.991935e+05\n",
              "2016-02  4.987069e+05\n",
              "2016-03  4.974839e+05\n",
              "2016-04  5.019000e+05\n",
              "2016-05  5.457742e+05\n",
              "...               ...\n",
              "2023-12  5.756526e+07\n",
              "2024-01  5.853168e+07\n",
              "2024-02  6.814628e+07\n",
              "2024-03  9.642045e+07\n",
              "2024-04  9.564367e+07\n",
              "\n",
              "[100 rows x 1 columns]"
            ]
          },
          "execution_count": 4,
          "metadata": {},
          "output_type": "execute_result"
        }
      ],
      "source": [
        "import pandas as pd\n",
        "\n",
        "# 엑셀 파일 경로\n",
        "file_path = '비트가격.xlsx'\n",
        "\n",
        "# 엑셀 파일 읽기\n",
        "df = pd.read_excel(file_path)\n",
        "\n",
        "# 'Date' 열을 datetime 형식으로 변환\n",
        "df['Date'] = pd.to_datetime(df['Date'], errors='coerce')\n",
        "\n",
        "# 변환되지 않은 값들 (NaT) 확인 및 제거\n",
        "df.dropna(subset=['Date'], inplace=True)\n",
        "\n",
        "# 'Date' 열을 인덱스로 설정\n",
        "df.set_index('Date', inplace=True)\n",
        "\n",
        "# 월별 데이터 생성\n",
        "monthly_data_b = df.groupby(df.index.to_period('M')).mean()\n",
        "\n",
        "# 데이터 프레임으로 만들기\n",
        "df_b = monthly_data_b\n",
        "df_b"
      ]
    },
    {
      "cell_type": "markdown",
      "metadata": {
        "id": "W4FZ0ZHWDdAe"
      },
      "source": [
        "# 3. 경기선행지수"
      ]
    },
    {
      "cell_type": "code",
      "execution_count": 5,
      "metadata": {
        "colab": {
          "base_uri": "https://localhost:8080/",
          "height": 455
        },
        "id": "v3-dZclaCkZD",
        "outputId": "e9b36b8f-fb0b-4532-be4e-e399a52ee2ae"
      },
      "outputs": [
        {
          "data": {
            "text/html": [
              "<div>\n",
              "<style scoped>\n",
              "    .dataframe tbody tr th:only-of-type {\n",
              "        vertical-align: middle;\n",
              "    }\n",
              "\n",
              "    .dataframe tbody tr th {\n",
              "        vertical-align: top;\n",
              "    }\n",
              "\n",
              "    .dataframe thead th {\n",
              "        text-align: right;\n",
              "    }\n",
              "</style>\n",
              "<table border=\"1\" class=\"dataframe\">\n",
              "  <thead>\n",
              "    <tr style=\"text-align: right;\">\n",
              "      <th></th>\n",
              "      <th>선행종합지수(2020=100)</th>\n",
              "    </tr>\n",
              "    <tr>\n",
              "      <th>Date</th>\n",
              "      <th></th>\n",
              "    </tr>\n",
              "  </thead>\n",
              "  <tbody>\n",
              "    <tr>\n",
              "      <th>2016.01</th>\n",
              "      <td>85.6</td>\n",
              "    </tr>\n",
              "    <tr>\n",
              "      <th>2016.02</th>\n",
              "      <td>85.7</td>\n",
              "    </tr>\n",
              "    <tr>\n",
              "      <th>2016.03</th>\n",
              "      <td>86.0</td>\n",
              "    </tr>\n",
              "    <tr>\n",
              "      <th>2016.04</th>\n",
              "      <td>86.3</td>\n",
              "    </tr>\n",
              "    <tr>\n",
              "      <th>2016.05</th>\n",
              "      <td>86.6</td>\n",
              "    </tr>\n",
              "    <tr>\n",
              "      <th>...</th>\n",
              "      <td>...</td>\n",
              "    </tr>\n",
              "    <tr>\n",
              "      <th>2023.12</th>\n",
              "      <td>113.4</td>\n",
              "    </tr>\n",
              "    <tr>\n",
              "      <th>2024.01</th>\n",
              "      <td>113.7</td>\n",
              "    </tr>\n",
              "    <tr>\n",
              "      <th>2024.02</th>\n",
              "      <td>114.2</td>\n",
              "    </tr>\n",
              "    <tr>\n",
              "      <th>2024.03</th>\n",
              "      <td>114.3</td>\n",
              "    </tr>\n",
              "    <tr>\n",
              "      <th>2024.04</th>\n",
              "      <td>114.8</td>\n",
              "    </tr>\n",
              "  </tbody>\n",
              "</table>\n",
              "<p>100 rows × 1 columns</p>\n",
              "</div>"
            ],
            "text/plain": [
              "         선행종합지수(2020=100)\n",
              "Date                     \n",
              "2016.01              85.6\n",
              "2016.02              85.7\n",
              "2016.03              86.0\n",
              "2016.04              86.3\n",
              "2016.05              86.6\n",
              "...                   ...\n",
              "2023.12             113.4\n",
              "2024.01             113.7\n",
              "2024.02             114.2\n",
              "2024.03             114.3\n",
              "2024.04             114.8\n",
              "\n",
              "[100 rows x 1 columns]"
            ]
          },
          "execution_count": 5,
          "metadata": {},
          "output_type": "execute_result"
        }
      ],
      "source": [
        "indicator = pd.read_excel('경기종합지수.xlsx', index_col = 0)\n",
        "df_i=indicator\n",
        "df_i"
      ]
    },
    {
      "cell_type": "markdown",
      "metadata": {
        "id": "1oUY9kn7DpZT"
      },
      "source": [
        "날짜 형식 맞추기"
      ]
    },
    {
      "cell_type": "code",
      "execution_count": 6,
      "metadata": {
        "id": "VkYCLVSECmeV"
      },
      "outputs": [],
      "source": [
        "# 인덱스를 문자열로 변환\n",
        "df_i.index = df_i.index.astype(str)\n",
        "\n",
        "# 문자열로 변환된 인덱스의 형식을 조정하여 'YYYY.MM' 형식으로 맞추기\n",
        "df_i.index = df_i.index.to_series().apply(lambda x: x if '.' in x else x + '.0')\n",
        "\n",
        "# 인덱스를 datetime 형식으로 변환\n",
        "df_i.index = pd.to_datetime(df_i.index, format='%Y.%m')\n",
        "\n",
        "# 인덱스를 'YYYY-MM' 형식의 문자열로 변환\n",
        "df_i.index = df_i.index.strftime('%Y-%m')\n",
        "\n",
        "# 인덱스 이름 설정 (옵션)\n",
        "df_i.index.name = 'Date'"
      ]
    },
    {
      "cell_type": "code",
      "execution_count": 7,
      "metadata": {
        "colab": {
          "base_uri": "https://localhost:8080/"
        },
        "id": "MXQ3mkBRCnds",
        "outputId": "35ab56fd-9fe3-41e0-82d5-460a4087a3f9"
      },
      "outputs": [
        {
          "name": "stdout",
          "output_type": "stream",
          "text": [
            "         선행종합지수(2020=100)\n",
            "Date                     \n",
            "2016-01              85.6\n",
            "2016-02              85.7\n",
            "2016-03              86.0\n",
            "2016-04              86.3\n",
            "2016-05              86.6\n",
            "...                   ...\n",
            "2023-12             113.4\n",
            "2024-01             113.7\n",
            "2024-02             114.2\n",
            "2024-03             114.3\n",
            "2024-04             114.8\n",
            "\n",
            "[100 rows x 1 columns]\n"
          ]
        }
      ],
      "source": [
        "import pandas as pd\n",
        "\n",
        "# 주어진 데이터\n",
        "data = df_i\n",
        "\n",
        "# 데이터프레임 생성\n",
        "df = pd.DataFrame(data)\n",
        "\n",
        "# 인덱스를 datetime 형식으로 변환\n",
        "df.index = pd.to_datetime(df.index)\n",
        "\n",
        "# 인덱스를 원하는 형식으로 재조정하여 문자열로 변환\n",
        "df.index = df.index.strftime('%Y-%m')\n",
        "\n",
        "# 인덱스 이름 설정 (옵션)\n",
        "df.index.name = 'Date'\n",
        "\n",
        "# 변경된 데이터프레임 출력\n",
        "print(df)\n",
        "\n",
        "df_leading = df.copy()"
      ]
    },
    {
      "cell_type": "markdown",
      "metadata": {
        "id": "HH1Nk8AuDwri"
      },
      "source": [
        "# 4. M2"
      ]
    },
    {
      "cell_type": "code",
      "execution_count": 8,
      "metadata": {
        "id": "nGMnVd1SCo-M"
      },
      "outputs": [],
      "source": [
        "M2 = pd.read_excel('M2.xlsx', index_col = 0)\n",
        "df_M=M2"
      ]
    },
    {
      "cell_type": "code",
      "execution_count": 9,
      "metadata": {
        "id": "L5N4NSn5Cxef"
      },
      "outputs": [],
      "source": [
        "# 인덱스를 문자열로 변환\n",
        "df_M.index = df_M.index.astype(str)\n",
        "\n",
        "# 문자열로 변환된 인덱스의 형식을 조정하여 'YYYY.MM' 형식으로 맞추기\n",
        "df_M.index = df_M.index.to_series().apply(lambda x: x if '.' in x else x + '.0')\n",
        "\n",
        "# 인덱스를 datetime 형식으로 변환\n",
        "df_M.index = pd.to_datetime(df_M.index, format='%Y.%m')\n",
        "\n",
        "# 인덱스를 'YYYY-MM' 형식의 문자열로 변환\n",
        "df_M.index = df_M.index.strftime('%Y-%m')\n",
        "\n",
        "# 인덱스 이름 설정 (옵션)\n",
        "df_M.index.name = '날짜'"
      ]
    },
    {
      "cell_type": "code",
      "execution_count": 10,
      "metadata": {
        "colab": {
          "base_uri": "https://localhost:8080/"
        },
        "id": "1JqTI-Q1CzQo",
        "outputId": "c9bd258c-fc72-40a1-a47d-0840720a8b85"
      },
      "outputs": [
        {
          "name": "stdout",
          "output_type": "stream",
          "text": [
            "         M2(평잔, 원계열)\n",
            "Date                \n",
            "2016-01    2261356.4\n",
            "2016-02    2285313.5\n",
            "2016-03    2294544.7\n",
            "2016-04    2299081.3\n",
            "2016-05    2312801.2\n",
            "...              ...\n",
            "2023-12    3916721.0\n",
            "2024-01    3909835.3\n",
            "2024-02    3937145.6\n",
            "2024-03    4000898.1\n",
            "2024-04    4010852.8\n",
            "\n",
            "[100 rows x 1 columns]\n"
          ]
        }
      ],
      "source": [
        "import pandas as pd\n",
        "\n",
        "# 주어진 데이터\n",
        "data = df_M\n",
        "\n",
        "# 데이터프레임 생성\n",
        "df = pd.DataFrame(data)\n",
        "\n",
        "# 인덱스를 datetime 형식으로 변환\n",
        "df.index = pd.to_datetime(df.index)\n",
        "\n",
        "# 인덱스를 원하는 형식으로 재조정하여 문자열로 변환\n",
        "df.index = df.index.strftime('%Y-%m')\n",
        "\n",
        "# 인덱스 이름 설정 (옵션)\n",
        "df.index.name = 'Date'\n",
        "\n",
        "# 변경된 데이터프레임 출력\n",
        "print(df)\n",
        "\n",
        "df_M2 = df.copy()"
      ]
    },
    {
      "cell_type": "markdown",
      "metadata": {
        "id": "eESefBMSD4HM"
      },
      "source": [
        "인덱스 통일"
      ]
    },
    {
      "cell_type": "code",
      "execution_count": 11,
      "metadata": {
        "id": "g12YyPW3C0sz"
      },
      "outputs": [],
      "source": [
        "df_leading.index = df_k.index"
      ]
    },
    {
      "cell_type": "code",
      "execution_count": 12,
      "metadata": {
        "id": "c1x9fQnxC1lX"
      },
      "outputs": [],
      "source": [
        "df_M2.index = df_b.index"
      ]
    },
    {
      "cell_type": "markdown",
      "metadata": {
        "id": "o2rORL7cD6mN"
      },
      "source": [
        "데이터 프레임 합치기"
      ]
    },
    {
      "cell_type": "code",
      "execution_count": 13,
      "metadata": {
        "colab": {
          "base_uri": "https://localhost:8080/"
        },
        "id": "PYx-rz_4C2UI",
        "outputId": "1b24fbc8-a180-428f-8945-90842996fd61"
      },
      "outputs": [
        {
          "name": "stdout",
          "output_type": "stream",
          "text": [
            "               Close  선행종합지수(2020=100)\n",
            "Date                                  \n",
            "2016-01  1894.651001              85.6\n",
            "2016-02  1900.609999              85.7\n",
            "2016-03  1976.502736              86.0\n",
            "2016-04  1996.170496              86.3\n",
            "2016-05  1966.675519              86.6\n",
            "...              ...               ...\n",
            "2023-12  2553.641075             113.4\n",
            "2024-01  2518.588212             113.7\n",
            "2024-02  2630.416337             114.2\n",
            "2024-03  2699.587036             114.3\n",
            "2024-04  2674.249988             114.8\n",
            "\n",
            "[100 rows x 2 columns]\n"
          ]
        }
      ],
      "source": [
        "dfs1 = [df_k, df_leading]\n",
        "combined_df1 = pd.concat(dfs1, axis=1)\n",
        "print(combined_df1)"
      ]
    },
    {
      "cell_type": "code",
      "execution_count": 14,
      "metadata": {
        "colab": {
          "base_uri": "https://localhost:8080/"
        },
        "id": "YhgQjUFJC4O2",
        "outputId": "f34b1cc4-fd78-419f-edc8-159696848555"
      },
      "outputs": [
        {
          "name": "stdout",
          "output_type": "stream",
          "text": [
            "         M2(평잔, 원계열)           BTC\n",
            "Date                              \n",
            "2016-01    2261356.4  4.991935e+05\n",
            "2016-02    2285313.5  4.987069e+05\n",
            "2016-03    2294544.7  4.974839e+05\n",
            "2016-04    2299081.3  5.019000e+05\n",
            "2016-05    2312801.2  5.457742e+05\n",
            "...              ...           ...\n",
            "2023-12    3916721.0  5.756526e+07\n",
            "2024-01    3909835.3  5.853168e+07\n",
            "2024-02    3937145.6  6.814628e+07\n",
            "2024-03    4000898.1  9.642045e+07\n",
            "2024-04    4010852.8  9.564367e+07\n",
            "\n",
            "[100 rows x 2 columns]\n"
          ]
        }
      ],
      "source": [
        "dfs2=[df_M2, df_b]\n",
        "combined_df2 = pd.concat(dfs2, axis=1)\n",
        "print(combined_df2)"
      ]
    },
    {
      "cell_type": "code",
      "execution_count": 15,
      "metadata": {
        "id": "dUxXv5FgC5Qk"
      },
      "outputs": [],
      "source": [
        "combined_last_df = pd.concat([combined_df1, combined_df2], axis=1)"
      ]
    },
    {
      "cell_type": "code",
      "execution_count": 2,
      "metadata": {
        "colab": {
          "base_uri": "https://localhost:8080/",
          "height": 455
        },
        "id": "zjNlCYgNC6il",
        "outputId": "84765a87-708f-4eb8-a2eb-2a8110009d18"
      },
      "outputs": [
        {
          "data": {
            "text/html": [
              "<div>\n",
              "<style scoped>\n",
              "    .dataframe tbody tr th:only-of-type {\n",
              "        vertical-align: middle;\n",
              "    }\n",
              "\n",
              "    .dataframe tbody tr th {\n",
              "        vertical-align: top;\n",
              "    }\n",
              "\n",
              "    .dataframe thead th {\n",
              "        text-align: right;\n",
              "    }\n",
              "</style>\n",
              "<table border=\"1\" class=\"dataframe\">\n",
              "  <thead>\n",
              "    <tr style=\"text-align: right;\">\n",
              "      <th></th>\n",
              "      <th>Close</th>\n",
              "      <th>선행종합지수(2020=100)</th>\n",
              "      <th>M2(평잔, 원계열)</th>\n",
              "      <th>BTC</th>\n",
              "      <th>sent_index</th>\n",
              "    </tr>\n",
              "    <tr>\n",
              "      <th>Date</th>\n",
              "      <th></th>\n",
              "      <th></th>\n",
              "      <th></th>\n",
              "      <th></th>\n",
              "      <th></th>\n",
              "    </tr>\n",
              "  </thead>\n",
              "  <tbody>\n",
              "    <tr>\n",
              "      <th>Jul-16</th>\n",
              "      <td>2002.482846</td>\n",
              "      <td>87.2</td>\n",
              "      <td>2352245.1</td>\n",
              "      <td>7.721935e+05</td>\n",
              "      <td>108.450704</td>\n",
              "    </tr>\n",
              "    <tr>\n",
              "      <th>Aug-16</th>\n",
              "      <td>2036.656367</td>\n",
              "      <td>87.6</td>\n",
              "      <td>2377323.1</td>\n",
              "      <td>6.591290e+05</td>\n",
              "      <td>142.274053</td>\n",
              "    </tr>\n",
              "    <tr>\n",
              "      <th>Sep-16</th>\n",
              "      <td>2042.555266</td>\n",
              "      <td>88.0</td>\n",
              "      <td>2383040.5</td>\n",
              "      <td>6.809000e+05</td>\n",
              "      <td>80.952381</td>\n",
              "    </tr>\n",
              "    <tr>\n",
              "      <th>Oct-16</th>\n",
              "      <td>2036.032513</td>\n",
              "      <td>88.4</td>\n",
              "      <td>2391059.2</td>\n",
              "      <td>7.322581e+05</td>\n",
              "      <td>97.142857</td>\n",
              "    </tr>\n",
              "    <tr>\n",
              "      <th>Nov-16</th>\n",
              "      <td>1981.746366</td>\n",
              "      <td>88.8</td>\n",
              "      <td>2406393.5</td>\n",
              "      <td>8.531667e+05</td>\n",
              "      <td>100.262467</td>\n",
              "    </tr>\n",
              "    <tr>\n",
              "      <th>...</th>\n",
              "      <td>...</td>\n",
              "      <td>...</td>\n",
              "      <td>...</td>\n",
              "      <td>...</td>\n",
              "      <td>...</td>\n",
              "    </tr>\n",
              "    <tr>\n",
              "      <th>Dec-23</th>\n",
              "      <td>2553.641075</td>\n",
              "      <td>113.4</td>\n",
              "      <td>3916721.0</td>\n",
              "      <td>5.756526e+07</td>\n",
              "      <td>148.148148</td>\n",
              "    </tr>\n",
              "    <tr>\n",
              "      <th>Jan-24</th>\n",
              "      <td>2518.588212</td>\n",
              "      <td>113.7</td>\n",
              "      <td>3909835.3</td>\n",
              "      <td>5.853168e+07</td>\n",
              "      <td>98.647242</td>\n",
              "    </tr>\n",
              "    <tr>\n",
              "      <th>Feb-24</th>\n",
              "      <td>2630.416337</td>\n",
              "      <td>114.2</td>\n",
              "      <td>3937145.6</td>\n",
              "      <td>6.814628e+07</td>\n",
              "      <td>115.575621</td>\n",
              "    </tr>\n",
              "    <tr>\n",
              "      <th>Mar-24</th>\n",
              "      <td>2699.587036</td>\n",
              "      <td>114.3</td>\n",
              "      <td>4000898.1</td>\n",
              "      <td>9.642045e+07</td>\n",
              "      <td>123.966942</td>\n",
              "    </tr>\n",
              "    <tr>\n",
              "      <th>Apr-24</th>\n",
              "      <td>2674.249988</td>\n",
              "      <td>114.8</td>\n",
              "      <td>4010852.8</td>\n",
              "      <td>9.564367e+07</td>\n",
              "      <td>116.472114</td>\n",
              "    </tr>\n",
              "  </tbody>\n",
              "</table>\n",
              "<p>94 rows × 5 columns</p>\n",
              "</div>"
            ],
            "text/plain": [
              "              Close  선행종합지수(2020=100)  M2(평잔, 원계열)           BTC  sent_index\n",
              "Date                                                                        \n",
              "Jul-16  2002.482846              87.2    2352245.1  7.721935e+05  108.450704\n",
              "Aug-16  2036.656367              87.6    2377323.1  6.591290e+05  142.274053\n",
              "Sep-16  2042.555266              88.0    2383040.5  6.809000e+05   80.952381\n",
              "Oct-16  2036.032513              88.4    2391059.2  7.322581e+05   97.142857\n",
              "Nov-16  1981.746366              88.8    2406393.5  8.531667e+05  100.262467\n",
              "...             ...               ...          ...           ...         ...\n",
              "Dec-23  2553.641075             113.4    3916721.0  5.756526e+07  148.148148\n",
              "Jan-24  2518.588212             113.7    3909835.3  5.853168e+07   98.647242\n",
              "Feb-24  2630.416337             114.2    3937145.6  6.814628e+07  115.575621\n",
              "Mar-24  2699.587036             114.3    4000898.1  9.642045e+07  123.966942\n",
              "Apr-24  2674.249988             114.8    4010852.8  9.564367e+07  116.472114\n",
              "\n",
              "[94 rows x 5 columns]"
            ]
          },
          "execution_count": 2,
          "metadata": {},
          "output_type": "execute_result"
        }
      ],
      "source": [
        "last_df = pd.read_csv('그래인저 최종.csv',encoding='cp949',index_col=0)\n",
        "last_df"
      ]
    },
    {
      "cell_type": "markdown",
      "metadata": {
        "id": "Dc824sqDEI3v"
      },
      "source": [
        "# **그래인저 인과검정**"
      ]
    },
    {
      "cell_type": "code",
      "execution_count": 25,
      "metadata": {
        "colab": {
          "base_uri": "https://localhost:8080/",
          "height": 434
        },
        "id": "h2XjgadJC7i3",
        "outputId": "148a7f1f-9e71-45b3-fd13-73dbfaff8e68"
      },
      "outputs": [
        {
          "name": "stdout",
          "output_type": "stream",
          "text": [
            "Y = Close, X = Close, P Values = [1.0, 1.0, 1.0, 1.0, 1.0, 1.0, 1.0, 1.0, 1.0, 1.0, 1.0, 1.0]\n",
            "Y = sent_index, X = Close, P Values = [0.8534, 0.319, 0.36, 0.1832, 0.0781, 0.0842, 0.0214, 0.0285, 0.0261, 0.007, 0.0005, 0.0031]\n",
            "Y = Close, X = 선행종합지수(2020=100), P Values = [0.5699, 0.0383, 0.0678, 0.2748, 0.3913, 0.0609, 0.0199, 0.0536, 0.0469, 0.0515, 0.0549, 0.0597]\n",
            "Y = sent_index, X = 선행종합지수(2020=100), P Values = [0.5873, 0.0745, 0.1834, 0.2193, 0.1906, 0.0554, 0.0423, 0.0468, 0.0164, 0.0095, 0.0014, 0.0053]\n",
            "Y = Close, X = M2(평잔, 원계열), P Values = [0.707, 0.8049, 0.4673, 0.1211, 0.0204, 0.0423, 0.0591, 0.0117, 0.0066, 0.0136, 0.0106, 0.0062]\n",
            "Y = sent_index, X = M2(평잔, 원계열), P Values = [0.4758, 0.6231, 0.7353, 0.9369, 0.9879, 0.9723, 0.8943, 0.7587, 0.8476, 0.7765, 0.645, 0.4839]\n",
            "Y = Close, X = BTC, P Values = [0.6506, 0.347, 0.5562, 0.5762, 0.4863, 0.5569, 0.5448, 0.5725, 0.6216, 0.7625, 0.5006, 0.1439]\n",
            "Y = sent_index, X = BTC, P Values = [0.9314, 0.18, 0.2836, 0.1634, 0.1789, 0.269, 0.2806, 0.6194, 0.6317, 0.6422, 0.6308, 0.3929]\n",
            "Y = Close, X = sent_index, P Values = [0.0, 0.0, 0.0, 0.0001, 0.0001, 0.0, 0.0, 0.0005, 0.0008, 0.0001, 0.0, 0.0]\n",
            "Y = sent_index, X = sent_index, P Values = [1.0, 1.0, 1.0, 1.0, 1.0, 1.0, 1.0, 1.0, 1.0, 1.0, 1.0, 1.0]\n"
          ]
        },
        {
          "data": {
            "text/html": [
              "<div>\n",
              "<style scoped>\n",
              "    .dataframe tbody tr th:only-of-type {\n",
              "        vertical-align: middle;\n",
              "    }\n",
              "\n",
              "    .dataframe tbody tr th {\n",
              "        vertical-align: top;\n",
              "    }\n",
              "\n",
              "    .dataframe thead th {\n",
              "        text-align: right;\n",
              "    }\n",
              "</style>\n",
              "<table border=\"1\" class=\"dataframe\">\n",
              "  <thead>\n",
              "    <tr style=\"text-align: right;\">\n",
              "      <th></th>\n",
              "      <th>Close_x_lag1</th>\n",
              "      <th>선행종합지수(2020=100)_x_lag1</th>\n",
              "      <th>M2(평잔, 원계열)_x_lag1</th>\n",
              "      <th>BTC_x_lag1</th>\n",
              "      <th>sent_index_x_lag1</th>\n",
              "      <th>Close_x_lag2</th>\n",
              "      <th>선행종합지수(2020=100)_x_lag2</th>\n",
              "      <th>M2(평잔, 원계열)_x_lag2</th>\n",
              "      <th>BTC_x_lag2</th>\n",
              "      <th>sent_index_x_lag2</th>\n",
              "      <th>...</th>\n",
              "      <th>Close_x_lag11</th>\n",
              "      <th>선행종합지수(2020=100)_x_lag11</th>\n",
              "      <th>M2(평잔, 원계열)_x_lag11</th>\n",
              "      <th>BTC_x_lag11</th>\n",
              "      <th>sent_index_x_lag11</th>\n",
              "      <th>Close_x_lag12</th>\n",
              "      <th>선행종합지수(2020=100)_x_lag12</th>\n",
              "      <th>M2(평잔, 원계열)_x_lag12</th>\n",
              "      <th>BTC_x_lag12</th>\n",
              "      <th>sent_index_x_lag12</th>\n",
              "    </tr>\n",
              "  </thead>\n",
              "  <tbody>\n",
              "    <tr>\n",
              "      <th>Close</th>\n",
              "      <td>0.0</td>\n",
              "      <td>0.0</td>\n",
              "      <td>0.0</td>\n",
              "      <td>0.0</td>\n",
              "      <td>0.0</td>\n",
              "      <td>0.0</td>\n",
              "      <td>0.0</td>\n",
              "      <td>0.0</td>\n",
              "      <td>0.0</td>\n",
              "      <td>0.0</td>\n",
              "      <td>...</td>\n",
              "      <td>0.0</td>\n",
              "      <td>0.0</td>\n",
              "      <td>0.0</td>\n",
              "      <td>0.0</td>\n",
              "      <td>0.0</td>\n",
              "      <td>0.0</td>\n",
              "      <td>0.0</td>\n",
              "      <td>0.0</td>\n",
              "      <td>0.0</td>\n",
              "      <td>0.0</td>\n",
              "    </tr>\n",
              "    <tr>\n",
              "      <th>선행종합지수(2020=100)</th>\n",
              "      <td>0.0</td>\n",
              "      <td>0.0</td>\n",
              "      <td>0.0</td>\n",
              "      <td>0.0</td>\n",
              "      <td>0.0</td>\n",
              "      <td>0.0</td>\n",
              "      <td>0.0</td>\n",
              "      <td>0.0</td>\n",
              "      <td>0.0</td>\n",
              "      <td>0.0</td>\n",
              "      <td>...</td>\n",
              "      <td>0.0</td>\n",
              "      <td>0.0</td>\n",
              "      <td>0.0</td>\n",
              "      <td>0.0</td>\n",
              "      <td>0.0</td>\n",
              "      <td>0.0</td>\n",
              "      <td>0.0</td>\n",
              "      <td>0.0</td>\n",
              "      <td>0.0</td>\n",
              "      <td>0.0</td>\n",
              "    </tr>\n",
              "    <tr>\n",
              "      <th>M2(평잔, 원계열)</th>\n",
              "      <td>0.0</td>\n",
              "      <td>0.0</td>\n",
              "      <td>0.0</td>\n",
              "      <td>0.0</td>\n",
              "      <td>0.0</td>\n",
              "      <td>0.0</td>\n",
              "      <td>0.0</td>\n",
              "      <td>0.0</td>\n",
              "      <td>0.0</td>\n",
              "      <td>0.0</td>\n",
              "      <td>...</td>\n",
              "      <td>0.0</td>\n",
              "      <td>0.0</td>\n",
              "      <td>0.0</td>\n",
              "      <td>0.0</td>\n",
              "      <td>0.0</td>\n",
              "      <td>0.0</td>\n",
              "      <td>0.0</td>\n",
              "      <td>0.0</td>\n",
              "      <td>0.0</td>\n",
              "      <td>0.0</td>\n",
              "    </tr>\n",
              "    <tr>\n",
              "      <th>BTC</th>\n",
              "      <td>0.0</td>\n",
              "      <td>0.0</td>\n",
              "      <td>0.0</td>\n",
              "      <td>0.0</td>\n",
              "      <td>0.0</td>\n",
              "      <td>0.0</td>\n",
              "      <td>0.0</td>\n",
              "      <td>0.0</td>\n",
              "      <td>0.0</td>\n",
              "      <td>0.0</td>\n",
              "      <td>...</td>\n",
              "      <td>0.0</td>\n",
              "      <td>0.0</td>\n",
              "      <td>0.0</td>\n",
              "      <td>0.0</td>\n",
              "      <td>0.0</td>\n",
              "      <td>0.0</td>\n",
              "      <td>0.0</td>\n",
              "      <td>0.0</td>\n",
              "      <td>0.0</td>\n",
              "      <td>0.0</td>\n",
              "    </tr>\n",
              "    <tr>\n",
              "      <th>sent_index</th>\n",
              "      <td>0.0</td>\n",
              "      <td>0.0</td>\n",
              "      <td>0.0</td>\n",
              "      <td>0.0</td>\n",
              "      <td>0.0</td>\n",
              "      <td>0.0</td>\n",
              "      <td>0.0</td>\n",
              "      <td>0.0</td>\n",
              "      <td>0.0</td>\n",
              "      <td>0.0</td>\n",
              "      <td>...</td>\n",
              "      <td>0.0</td>\n",
              "      <td>0.0</td>\n",
              "      <td>0.0</td>\n",
              "      <td>0.0</td>\n",
              "      <td>0.0</td>\n",
              "      <td>0.0</td>\n",
              "      <td>0.0</td>\n",
              "      <td>0.0</td>\n",
              "      <td>0.0</td>\n",
              "      <td>0.0</td>\n",
              "    </tr>\n",
              "  </tbody>\n",
              "</table>\n",
              "<p>5 rows × 60 columns</p>\n",
              "</div>"
            ],
            "text/plain": [
              "                  Close_x_lag1  선행종합지수(2020=100)_x_lag1  M2(평잔, 원계열)_x_lag1  \\\n",
              "Close                      0.0                      0.0                 0.0   \n",
              "선행종합지수(2020=100)           0.0                      0.0                 0.0   \n",
              "M2(평잔, 원계열)                0.0                      0.0                 0.0   \n",
              "BTC                        0.0                      0.0                 0.0   \n",
              "sent_index                 0.0                      0.0                 0.0   \n",
              "\n",
              "                  BTC_x_lag1  sent_index_x_lag1  Close_x_lag2  \\\n",
              "Close                    0.0                0.0           0.0   \n",
              "선행종합지수(2020=100)         0.0                0.0           0.0   \n",
              "M2(평잔, 원계열)              0.0                0.0           0.0   \n",
              "BTC                      0.0                0.0           0.0   \n",
              "sent_index               0.0                0.0           0.0   \n",
              "\n",
              "                  선행종합지수(2020=100)_x_lag2  M2(평잔, 원계열)_x_lag2  BTC_x_lag2  \\\n",
              "Close                                 0.0                 0.0         0.0   \n",
              "선행종합지수(2020=100)                      0.0                 0.0         0.0   \n",
              "M2(평잔, 원계열)                           0.0                 0.0         0.0   \n",
              "BTC                                   0.0                 0.0         0.0   \n",
              "sent_index                            0.0                 0.0         0.0   \n",
              "\n",
              "                  sent_index_x_lag2  ...  Close_x_lag11  \\\n",
              "Close                           0.0  ...            0.0   \n",
              "선행종합지수(2020=100)                0.0  ...            0.0   \n",
              "M2(평잔, 원계열)                     0.0  ...            0.0   \n",
              "BTC                             0.0  ...            0.0   \n",
              "sent_index                      0.0  ...            0.0   \n",
              "\n",
              "                  선행종합지수(2020=100)_x_lag11  M2(평잔, 원계열)_x_lag11  BTC_x_lag11  \\\n",
              "Close                                  0.0                  0.0          0.0   \n",
              "선행종합지수(2020=100)                       0.0                  0.0          0.0   \n",
              "M2(평잔, 원계열)                            0.0                  0.0          0.0   \n",
              "BTC                                    0.0                  0.0          0.0   \n",
              "sent_index                             0.0                  0.0          0.0   \n",
              "\n",
              "                  sent_index_x_lag11  Close_x_lag12  선행종합지수(2020=100)_x_lag12  \\\n",
              "Close                            0.0            0.0                       0.0   \n",
              "선행종합지수(2020=100)                 0.0            0.0                       0.0   \n",
              "M2(평잔, 원계열)                      0.0            0.0                       0.0   \n",
              "BTC                              0.0            0.0                       0.0   \n",
              "sent_index                       0.0            0.0                       0.0   \n",
              "\n",
              "                  M2(평잔, 원계열)_x_lag12  BTC_x_lag12  sent_index_x_lag12  \n",
              "Close                             0.0          0.0                 0.0  \n",
              "선행종합지수(2020=100)                  0.0          0.0                 0.0  \n",
              "M2(평잔, 원계열)                       0.0          0.0                 0.0  \n",
              "BTC                               0.0          0.0                 0.0  \n",
              "sent_index                        0.0          0.0                 0.0  \n",
              "\n",
              "[5 rows x 60 columns]"
            ]
          },
          "execution_count": 25,
          "metadata": {},
          "output_type": "execute_result"
        }
      ],
      "source": [
        "maxlag=12\n",
        "test = 'ssr_chi2test'\n",
        "\n",
        "def grangers_causation_matrix(data, variables, test='ssr_chi2test', verbose=False):\n",
        "    df = pd.DataFrame(np.zeros((len(variables), len(variables)*maxlag)), columns=[f'{var}_x_lag{i+1}' for i in range(maxlag) for var in variables], index=variables)\n",
        "\n",
        "    for c in variables:\n",
        "        for r in variables:\n",
        "            test_result = grangercausalitytests(data[[r, c]], maxlag=maxlag, verbose=False)\n",
        "            p_values = [round(test_result[i+1][0][test][1], 4) for i in range(maxlag)]\n",
        "\n",
        "\n",
        "            if r == 'Close':    # 주요하게 볼 KOSPI 지수에 대해서만 pirnt하도록 하겠습니다.\n",
        "                #if verbose:\n",
        "              print(f'''Y = {r}, X = {c}, P Values = {p_values}''')\n",
        "            if r == 'sent_index':\n",
        "               print(f'''Y = {r}, X = {c}, P Values = {p_values}''')\n",
        "               # df.loc[c, [f'{r}_x_lag{i+1}' for i in range(maxlag)]] = p_values\n",
        "\n",
        "    return df\n",
        "\n",
        "grangers_causation_matrix(last_df, variables = last_df.columns,test=test)"
      ]
    },
    {
      "cell_type": "code",
      "execution_count": 22,
      "metadata": {},
      "outputs": [
        {
          "name": "stdout",
          "output_type": "stream",
          "text": [
            "\n",
            "ADF Test Results for Close:\n",
            "Test Statistic                                             -3.106881\n",
            "p-value                                                     0.026048\n",
            "Critical Values    {'1%': -3.5087828609430614, '5%': -2.895783561...\n",
            "dtype: object\n",
            "해석: Close는 5% 유의수준에서 정상 시계열입니다.\n",
            "\n",
            "ADF Test Results for 선행종합지수(2020=100):\n",
            "Test Statistic                                                0.2327\n",
            "p-value                                                     0.974037\n",
            "Critical Values    {'1%': -3.5087828609430614, '5%': -2.895783561...\n",
            "dtype: object\n",
            "해석: 선행종합지수(2020=100)는 5% 유의수준에서 비정상 시계열입니다.\n",
            "\n",
            "ADF Test Results for M2(평잔, 원계열):\n",
            "Test Statistic                                              0.161498\n",
            "p-value                                                     0.970018\n",
            "Critical Values    {'1%': -3.506057133647011, '5%': -2.8946066061...\n",
            "dtype: object\n",
            "해석: M2(평잔, 원계열)는 5% 유의수준에서 비정상 시계열입니다.\n",
            "\n",
            "ADF Test Results for BTC:\n",
            "Test Statistic                                             -0.479917\n",
            "p-value                                                     0.895876\n",
            "Critical Values    {'1%': -3.50434289821397, '5%': -2.89386596304...\n",
            "dtype: object\n",
            "해석: BTC는 5% 유의수준에서 비정상 시계열입니다.\n",
            "\n",
            "ADF Test Results for sent_index:\n",
            "Test Statistic                                             -3.531461\n",
            "p-value                                                     0.007215\n",
            "Critical Values    {'1%': -3.512738056978279, '5%': -2.8974898650...\n",
            "dtype: object\n",
            "해석: sent_index는 5% 유의수준에서 정상 시계열입니다.\n"
          ]
        }
      ],
      "source": [
        "from statsmodels.tsa.stattools import adfuller, grangercausalitytests\n",
        "\n",
        "# ADF 테스트 함수 정의\n",
        "def adf_test(timeseries):\n",
        "    result = adfuller(timeseries, autolag='AIC')\n",
        "    return pd.Series({'Test Statistic': result[0], 'p-value': result[1], 'Critical Values': result[4]})\n",
        "\n",
        "adf_results = {var: adf_test(last_df[var]) for var in last_df.columns}\n",
        "\n",
        "# ADF 테스트 결과 출력 및 해석\n",
        "for var, result in adf_results.items():\n",
        "    print(f\"\\nADF Test Results for {var}:\")\n",
        "    print(result)\n",
        "    \n",
        "    if result['p-value'] <= 0.05:\n",
        "        print(f\"해석: {var}는 5% 유의수준에서 정상 시계열입니다.\")\n",
        "    else:\n",
        "        print(f\"해석: {var}는 5% 유의수준에서 비정상 시계열입니다.\")"
      ]
    },
    {
      "cell_type": "code",
      "execution_count": 6,
      "metadata": {},
      "outputs": [
        {
          "data": {
            "text/plain": [
              "<Axes: xlabel='Date'>"
            ]
          },
          "execution_count": 6,
          "metadata": {},
          "output_type": "execute_result"
        },
        {
          "data": {
            "image/png": "[encoded data removed]",
            "text/plain": [
              "<Figure size 640x480 with 1 Axes>"
            ]
          },
          "metadata": {},
          "output_type": "display_data"
        }
      ],
      "source": [
        "last_df['Close'].plot()"
      ]
    },
    {
      "cell_type": "code",
      "execution_count": 3,
      "metadata": {},
      "outputs": [
        {
          "name": "stderr",
          "output_type": "stream",
          "text": [
            "c:\\Users\\82107\\Documents\\GitHub\\.conda\\lib\\site-packages\\statsmodels\\tsa\\base\\tsa_model.py:559: UserWarning: Could not infer format, so each element will be parsed individually, falling back to `dateutil`. To ensure parsing is consistent and as-expected, please specify a format.\n",
            "  _index = to_datetime(index)\n",
            "c:\\Users\\82107\\Documents\\GitHub\\.conda\\lib\\site-packages\\statsmodels\\tsa\\base\\tsa_model.py:473: ValueWarning: An unsupported index was provided and will be ignored when e.g. forecasting.\n",
            "  self._init_dates(dates, freq)\n"
          ]
        },
        {
          "name": "stdout",
          "output_type": "stream",
          "text": [
            " VAR Order Selection (* highlights the minimums) \n",
            "=================================================\n",
            "      AIC         BIC         FPE         HQIC   \n",
            "-------------------------------------------------\n",
            "0       17.73       17.79   5.010e+07       17.75\n",
            "1      14.76*      14.93*  2.568e+06*      14.83*\n",
            "2       14.80       15.08   2.682e+06       14.92\n",
            "3       14.78       15.18   2.637e+06       14.94\n",
            "4       14.83       15.33   2.756e+06       15.03\n",
            "5       14.83       15.45   2.755e+06       15.08\n",
            "6       14.81       15.54   2.713e+06       15.10\n",
            "-------------------------------------------------\n"
          ]
        },
        {
          "data": {
            "image/png": "[encoded data removed]",
            "text/plain": [
              "<Figure size 1000x1000 with 4 Axes>"
            ]
          },
          "metadata": {},
          "output_type": "display_data"
        }
      ],
      "source": [
        "import pandas as pd\n",
        "from statsmodels.tsa.api import VAR\n",
        "import matplotlib.pyplot as plt\n",
        "\n",
        "df = last_df[['sent_index', 'Close']].dropna() \n",
        "model = VAR(df)\n",
        "lag_order = model.select_order(maxlags=6)\n",
        "print(lag_order.summary())\n",
        "var_model = model.fit(lag_order.hqic)\n",
        "irf = var_model.irf(12)  # 10 기간 동안의 충격 반응 계산\n",
        "\n",
        "irf.plot(orth=True,figsize=(10,10))\n",
        "plt.show()"
      ]
    },
    {
      "cell_type": "code",
      "execution_count": 6,
      "metadata": {},
      "outputs": [
        {
          "name": "stdout",
          "output_type": "stream",
          "text": [
            "기간 0: 34.39590118160035\n",
            "기간 1: 41.11579656999298\n",
            "기간 2: 12.585909885608842\n",
            "기간 3: 0.8888157359407955\n",
            "기간 4: -3.712113345387195\n",
            "기간 5: -5.336586858625708\n",
            "기간 6: -5.726526675326284\n",
            "기간 7: -5.617369135064379\n",
            "기간 8: -5.3186052499995\n",
            "기간 9: -4.959545334531207\n",
            "기간 10: -4.593354172554456\n",
            "기간 11: -4.241084573864455\n",
            "기간 12: -3.9103095197733992\n"
          ]
        }
      ],
      "source": [
        "# 충격반응 결과를 데이터로 저장\n",
        "irf_results = irf.orth_irfs\n",
        "\n",
        "norm_senti_to_종가지수 = irf_results[:, 1, 0]\n",
        "last = 0\n",
        "# 결과 출력\n",
        "for i, value in enumerate(norm_senti_to_종가지수):\n",
        "    print(f\"기간 {i}: {value-last}\")\n",
        "    last = value"
      ]
    },
    {
      "cell_type": "code",
      "execution_count": null,
      "metadata": {},
      "outputs": [],
      "source": []
    }
  ],
  "metadata": {
    "colab": {
      "provenance": []
    },
    "kernelspec": {
      "display_name": "Python 3",
      "name": "python3"
    },
    "language_info": {
      "codemirror_mode": {
        "name": "ipython",
        "version": 3
      },
      "file_extension": ".py",
      "mimetype": "text/x-python",
      "name": "python",
      "nbconvert_exporter": "python",
      "pygments_lexer": "ipython3",
      "version": "3.10.13"
    }
  },
  "nbformat": 4,
  "nbformat_minor": 0
}
